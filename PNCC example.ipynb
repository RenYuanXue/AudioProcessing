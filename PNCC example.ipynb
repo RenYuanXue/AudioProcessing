{
 "cells": [
  {
   "cell_type": "code",
   "execution_count": null,
   "metadata": {},
   "outputs": [],
   "source": [
    "\"\"\"\n",
    "Provide features used in speaker separation. \n",
    "Provides: MFCC\n",
    "\n",
    "Author: Ren Yuan (Peter) Xue\n",
    "\"\"\"\n",
    "\n",
    "import numpy as np\n",
    "import functions as func\n",
    "from scipy.fftpack import dct\n",
    "\n",
    "def pncc(signal, sample_rate=None, pre_emph=0.97, frame_size=0.025, frame_step=0.01,\n",
    "         num_fft=None, freq_min=0, freq_max=None, num_mel_filter=26, norm=False):\n",
    "    \"\"\"\n",
    "    Function filter_bank calculates the filter bank feature from an audio signal.\n",
    "    \n",
    "    @param signal: Audio signal.\n",
    "    @param sample_rate: The sample rate of audio signal we are working with.\n",
    "    @param pre_emph: Coefficient used in pre-empahsis filter. Default is 0.97.\n",
    "    @param frame_size: Time interval we are taking within frames. Default is 0.025.\n",
    "    @param frame_step: Time step we are taking between frames. Default is 0.01.\n",
    "    @param num_fft: Number of FFT points. Default is calculated using get_num_fft.\n",
    "    @param freq_min: Lowest frequency band edge of Mel filters in Hz. Default is 0.\n",
    "    @param freq_max: Highest frequency band edge of Mel filters in Hz. Default is sample rate / 2.\n",
    "    @param num_mel_filter: Number of filter points in filter banks on Mel scale.\n",
    "    @param norm: Whether or not perform mean normalization. Default is False.\n",
    "    @returns: The filter bank feature from audio signal.\n",
    "    \"\"\"\n",
    "    # Handle exceptions.\n",
    "    if not sample_rate: # Check samplerate input validness.\n",
    "        return('Invalid input for sample_rate')\n",
    "    if freq_max  and freq_max > sample_rate / 2: # Check maximum frequency input validness.\n",
    "        return('Invalid input for freq_max')\n",
    "    \n",
    "    # Initialze variables.\n",
    "    num_fft = num_fft or func.get_num_fft(sample_rate, frame_size)\n",
    "    freq_max = freq_max or int(np.floor(sample_rate / 2))\n",
    "    # Apply pre-emphasize filter to audio.\n",
    "    emphasized_signal = func.pre_emphasis(signal, pre_emph)\n",
    "    \n",
    "    \n",
    "    \n",
    "    # Frame audio and apply Hamming window.\n",
    "    frames = func.frame_audio(emphasized_signal, sample_rate, frame_size, frame_step, num_fft) \n",
    "    frames *= np.hamming(int(round(sample_rate * frame_size)))\n",
    "    # Calculate the Power Spectrum of the frames.\n",
    "    magnitude_frames = np.absolute(np.fft.rfft(frames, num_fft))\n",
    "    power_frames = ((1.0 / num_fft) * (magnitude_frames) ** 2)\n",
    "    # Construct filter_banks.\n",
    "    print([freq_min,freq_max,num_mel_filter,num_fft,sample_rate])\n",
    "    filters = func.get_filter(freq_min,freq_max,num_mel_filter,num_fft,sample_rate) # Construct filters.\n",
    "    print(filters)\n",
    "    filter_banks = np.dot(filters, power_frames.T)\n",
    "    filter_banks = np.where(filter_banks == 0, np.finfo(float).eps, filter_banks) # Numerical stability\n",
    "    # Return the filter bank based on mean normalization = True or False.\n",
    "    return filter_banks if not norm else filter_banks - np.mean(filter_banks, axis = 0) + 1e-8"
   ]
  }
 ],
 "metadata": {
  "kernelspec": {
   "display_name": "Python 3",
   "language": "python",
   "name": "python3"
  },
  "language_info": {
   "codemirror_mode": {
    "name": "ipython",
    "version": 3
   },
   "file_extension": ".py",
   "mimetype": "text/x-python",
   "name": "python",
   "nbconvert_exporter": "python",
   "pygments_lexer": "ipython3",
   "version": "3.7.4"
  }
 },
 "nbformat": 4,
 "nbformat_minor": 2
}
