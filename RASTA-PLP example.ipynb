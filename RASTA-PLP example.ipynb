{
 "cells": [
  {
   "cell_type": "code",
   "execution_count": null,
   "metadata": {},
   "outputs": [],
   "source": [
    "import numpy as np\n",
    "import functions as func\n",
    "from scipy.fftpack import dct\n",
    "\n",
    "def rasta_plp(signal, sample_rate, frame_size=0.025, frame_step=0.01, num_fft=None):\n",
    "    \"\"\"\n",
    "    Function rasta_plp calculates the RASTA-PLP feature from an audio signal.\n",
    "    \n",
    "    @param signal: Audio signal.\n",
    "    @param sample_rate: The sample rate of audio signal we are working with.\n",
    "    @param frame_size: Time interval we are taking within frames. Default is 0.025.\n",
    "    @param frame_step: Time step we are taking between frames. Default is 0.01.\n",
    "    @param num_fft: Number of FFT points. Default is calculated using get_num_fft.\n",
    "    @returns: The RASTA-PLP feature from audio signal.\n",
    "    \"\"\"\n",
    "    # Handle exceptions.\n",
    "    if not sample_rate: # Check samplerate input validness.\n",
    "        return('Invalid input for sample_rate')\n",
    "    # Initialze variables.\n",
    "    num_fft = num_fft or func.get_num_fft(sample_rate, frame_size)\n",
    "    power_spectrum, _ = func.powspec(signal, sample_rate, frame_size, frame_step, num_fft)\n",
    "    "
   ]
  }
 ],
 "metadata": {
  "kernelspec": {
   "display_name": "Python 3",
   "language": "python",
   "name": "python3"
  },
  "language_info": {
   "codemirror_mode": {
    "name": "ipython",
    "version": 3
   },
   "file_extension": ".py",
   "mimetype": "text/x-python",
   "name": "python",
   "nbconvert_exporter": "python",
   "pygments_lexer": "ipython3",
   "version": "3.7.4"
  }
 },
 "nbformat": 4,
 "nbformat_minor": 2
}
